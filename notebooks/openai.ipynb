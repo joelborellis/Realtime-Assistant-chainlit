{
 "cells": [
  {
   "cell_type": "code",
   "execution_count": 2,
   "metadata": {},
   "outputs": [
    {
     "name": "stdout",
     "output_type": "stream",
     "text": [
      "o1-preview\n"
     ]
    }
   ],
   "source": [
    "import os\n",
    "from dotenv import load_dotenv \n",
    "\n",
    "from openai import OpenAI\n",
    "\n",
    "load_dotenv()\n",
    "\n",
    "OPENAI_API_KEY = os.getenv(\"OPENAI_API_KEY\")\n",
    "\n",
    "model_choices = \"\"\"\n",
    "/// <summary>\n",
    "/// Represents a mapping of a common name that a user might call model to the actual model name.  For example ModelName.base_model would return 'gpt-4o-2024-08-06'\"\n",
    "/// </summary>\n",
    "    /// <summary>\n",
    "    /// Represents the state of the art model.\n",
    "    /// </summary>\n",
    "    ModelName.state_of_the_art_model: 'o1-preview',\n",
    "    /// <summary>\n",
    "    /// Represents the reasoning model.\n",
    "    /// </summary>\n",
    "    ModelName.reasoning_model: 'o1-mini',\n",
    "    /// <summary>\n",
    "    /// Represents the Claude sonnet model.\n",
    "    /// </summary>\n",
    "    ModelName.sonnet_model: 'claude-3-5-sonnet-20240620',\n",
    "    /// <summary>\n",
    "    /// Represents the base model.\n",
    "    /// </summary>\n",
    "    ModelName.base_model: 'gpt-4o-2024-08-06',\n",
    "    /// <summary>\n",
    "    /// Represents the fast model.\n",
    "    /// </summary>\n",
    "    ModelName.fast_model: 'gpt-4o-mini',\n",
    "    /// <summary>\n",
    "    /// Represents the image model.\n",
    "    /// </summary>\n",
    "    ModelName.image_model: 'dall-e-3',\n",
    "\"\"\"\n",
    "\n",
    "prompt = \"create a file called myfile.csv and populate it with 20 rows of random information about animals and use the state of the art model\"\n",
    "\n",
    "client = OpenAI(api_key=OPENAI_API_KEY)\n",
    "\n",
    "completion = client.chat.completions.create(\n",
    "    model=\"gpt-4o-2024-08-06\",\n",
    "    messages=[\n",
    "        {\n",
    "            \"role\": \"user\",\n",
    "            \"content\": f\"Choose the right model name based on the the following directive from the user {prompt}.  Respond only with the model name, and with no markdown formatting.\"\n",
    "        },\n",
    "        {\n",
    "            \"role\": \"user\",\n",
    "            \"content\": model_choices\n",
    "        }\n",
    "    ],\n",
    "    prediction={\n",
    "        \"type\": \"content\",\n",
    "        \"content\": model_choices\n",
    "    }\n",
    ")\n",
    "\n",
    "print(completion.choices[0].message.content)\n",
    "\n",
    "\n",
    "\n"
   ]
  }
 ],
 "metadata": {
  "kernelspec": {
   "display_name": ".venv",
   "language": "python",
   "name": "python3"
  },
  "language_info": {
   "codemirror_mode": {
    "name": "ipython",
    "version": 3
   },
   "file_extension": ".py",
   "mimetype": "text/x-python",
   "name": "python",
   "nbconvert_exporter": "python",
   "pygments_lexer": "ipython3",
   "version": "3.13.0"
  }
 },
 "nbformat": 4,
 "nbformat_minor": 2
}
